{
  "nbformat": 4,
  "nbformat_minor": 0,
  "metadata": {
    "colab": {
      "provenance": []
    },
    "kernelspec": {
      "name": "python3",
      "display_name": "Python 3"
    },
    "language_info": {
      "name": "python"
    }
  },
  "cells": [
    {
      "cell_type": "code",
      "execution_count": 1,
      "metadata": {
        "colab": {
          "base_uri": "https://localhost:8080/"
        },
        "id": "E3dst2B6fobq",
        "outputId": "3e24ebcc-b068-4e1d-94bf-6717531c6420"
      },
      "outputs": [
        {
          "output_type": "stream",
          "name": "stdout",
          "text": [
            "Mounted at /content/drive\n"
          ]
        }
      ],
      "source": [
        "# import libraries\n",
        "import pandas as pd\n",
        "import matplotlib.pyplot as plt\n",
        "import seaborn as sns\n",
        "import plotly.express as px\n",
        "\n",
        "import warnings\n",
        "warnings.filterwarnings(\"ignore\")\n",
        "\n",
        "from google.colab import drive\n",
        "drive.mount('/content/drive')\n"
      ]
    },
    {
      "cell_type": "code",
      "source": [
        "import os\n",
        "\n",
        "path = \"/content/drive/MyDrive/\"\n",
        "for root, dirs, files in os.walk(path):\n",
        "    if \"csv_files\" in dirs:\n",
        "        print(\"Found directory:\", os.path.join(root, \"csv_files\"))\n"
      ],
      "metadata": {
        "id": "PocdWk79gMMJ"
      },
      "execution_count": 2,
      "outputs": []
    },
    {
      "cell_type": "code",
      "source": [
        "import os\n",
        "\n",
        "# Define paths\n",
        "root_path = \"/content/drive/MyDrive/ds_prachi\"\n",
        "csv_path = os.path.join(root_path, \"csv_files\")\n",
        "\n",
        "# Create folders\n",
        "os.makedirs(csv_path, exist_ok=True)\n"
      ],
      "metadata": {
        "id": "wPQ-cS8hg01s"
      },
      "execution_count": 3,
      "outputs": []
    },
    {
      "cell_type": "code",
      "source": [
        "# load Datasets\n",
        "\n",
        "# Load Fear & Greed Index\n",
        "sentiment_df = pd.read_csv('/content/fear_greed_index.csv')\n",
        "print(\"Sentiment Data:\")\n",
        "print(sentiment_df.head())\n",
        "\n",
        "# Load Historical Trader Data\n",
        "trader_df = pd.read_csv('/content/historical_data.csv')\n",
        "print(\"Trader Data:\")\n",
        "print(trader_df.head())"
      ],
      "metadata": {
        "colab": {
          "base_uri": "https://localhost:8080/"
        },
        "id": "Ezhirs3yhKh7",
        "outputId": "69b4d2e5-c133-4ec3-d89f-aedcf7e57cd2"
      },
      "execution_count": 7,
      "outputs": [
        {
          "output_type": "stream",
          "name": "stdout",
          "text": [
            "Sentiment Data:\n",
            "    timestamp  value classification        date\n",
            "0  1517463000     30           Fear  2018-02-01\n",
            "1  1517549400     15   Extreme Fear  2018-02-02\n",
            "2  1517635800     40           Fear  2018-02-03\n",
            "3  1517722200     24   Extreme Fear  2018-02-04\n",
            "4  1517808600     11   Extreme Fear  2018-02-05\n",
            "Trader Data:\n",
            "                                      Account  Coin  Execution Price  \\\n",
            "0  0xae5eacaf9c6b9111fd53034a602c192a04e082ed  @107           7.9769   \n",
            "1  0xae5eacaf9c6b9111fd53034a602c192a04e082ed  @107           7.9800   \n",
            "2  0xae5eacaf9c6b9111fd53034a602c192a04e082ed  @107           7.9855   \n",
            "3  0xae5eacaf9c6b9111fd53034a602c192a04e082ed  @107           7.9874   \n",
            "4  0xae5eacaf9c6b9111fd53034a602c192a04e082ed  @107           7.9894   \n",
            "\n",
            "   Size Tokens  Size USD Side     Timestamp IST  Start Position Direction  \\\n",
            "0       986.87   7872.16  BUY  02-12-2024 22:50        0.000000       Buy   \n",
            "1        16.00    127.68  BUY  02-12-2024 22:50      986.524596       Buy   \n",
            "2       144.09   1150.63  BUY  02-12-2024 22:50     1002.518996       Buy   \n",
            "3       142.98   1142.04  BUY  02-12-2024 22:50     1146.558564       Buy   \n",
            "4         8.73     69.75  BUY  02-12-2024 22:50     1289.488521       Buy   \n",
            "\n",
            "   Closed PnL                                   Transaction Hash     Order ID  \\\n",
            "0         0.0  0xec09451986a1874e3a980418412fcd0201f500c95bac...  52017706630   \n",
            "1         0.0  0xec09451986a1874e3a980418412fcd0201f500c95bac...  52017706630   \n",
            "2         0.0  0xec09451986a1874e3a980418412fcd0201f500c95bac...  52017706630   \n",
            "3         0.0  0xec09451986a1874e3a980418412fcd0201f500c95bac...  52017706630   \n",
            "4         0.0  0xec09451986a1874e3a980418412fcd0201f500c95bac...  52017706630   \n",
            "\n",
            "   Crossed       Fee      Trade ID     Timestamp  \n",
            "0     True  0.345404  8.950000e+14  1.730000e+12  \n",
            "1     True  0.005600  4.430000e+14  1.730000e+12  \n",
            "2     True  0.050431  6.600000e+14  1.730000e+12  \n",
            "3     True  0.050043  1.080000e+15  1.730000e+12  \n",
            "4     True  0.003055  1.050000e+15  1.730000e+12  \n"
          ]
        }
      ]
    },
    {
      "cell_type": "code",
      "source": [
        "# Preprocessing and Merging\n",
        "\n",
        "# Convert date columns to datetime format\n",
        "sentiment_df['date'] = pd.to_datetime(sentiment_df['date'])\n",
        "trader_df['Timestamp IST'] = pd.to_datetime(trader_df['Timestamp IST'], format='%m-%d-%Y %H:%M', errors='coerce')\n",
        "\n",
        "# Add date column to trader_df\n",
        "trader_df['Date'] = trader_df['Timestamp IST'].dt.date\n",
        "sentiment_df['Date'] = sentiment_df['date'].dt.date\n",
        "\n",
        "# Merge both on Date\n",
        "merged_df = pd.merge(trader_df, sentiment_df, on='Date', how='left')\n",
        "\n",
        "# Check for nulls after converting to datetime\n",
        "print(f\"Number of nulls in 'Timestamp IST' after conversion: {trader_df['Timestamp IST'].isnull().sum()}\")\n",
        "\n",
        "# Check for nulls after merge\n",
        "print(f\"Number of nulls in 'classification' after merge: {merged_df['classification'].isnull().sum()}\")"
      ],
      "metadata": {
        "colab": {
          "base_uri": "https://localhost:8080/"
        },
        "id": "rwX_Z2INhiaJ",
        "outputId": "3a779f30-affe-49a4-a16e-7bd9e3880ad6"
      },
      "execution_count": 11,
      "outputs": [
        {
          "output_type": "stream",
          "name": "stdout",
          "text": [
            "Number of nulls in 'Timestamp IST' after conversion: 131999\n",
            "Number of nulls in 'classification' after merge: 175360\n"
          ]
        }
      ]
    },
    {
      "cell_type": "code",
      "metadata": {
        "id": "4fbfa10f"
      },
      "source": [
        "import os\n",
        "\n",
        "# Define the output path\n",
        "output_path = \"/content/drive/MyDrive/ds_prachi/outputs\"\n",
        "\n",
        "# Create the output directory if it doesn't exist\n",
        "os.makedirs(output_path, exist_ok=True)"
      ],
      "execution_count": 14,
      "outputs": []
    },
    {
      "cell_type": "code",
      "source": [
        "# Exploratory Data Analysis (EDA)\n",
        "\n",
        " # Volume vs Sentiment\n",
        "\n",
        "volume_by_sentiment = merged_df.groupby('classification')['Size Tokens'].sum().reset_index()\n",
        "\n",
        "plt.figure(figsize=(6, 4))\n",
        "sns.barplot(data=volume_by_sentiment, x='classification', y='Size Tokens')\n",
        "plt.title('Trading Volume vs Sentiment')\n",
        "plt.ylabel('Total Trade Volume')\n",
        "plt.savefig('/content/drive/MyDrive/ds_prachi/outputs/volume_vs_sentiment.png')\n",
        "plt.show()"
      ],
      "metadata": {
        "colab": {
          "base_uri": "https://localhost:8080/",
          "height": 410
        },
        "id": "gJssvmVSifRQ",
        "outputId": "041c1d3a-fd99-426a-9bd2-43ba8562e4e1"
      },
      "execution_count": 16,
      "outputs": [
        {
          "output_type": "display_data",
          "data": {
            "text/plain": [
              "<Figure size 600x400 with 1 Axes>"
            ],
            "image/png": "[encoded data removed]"
          },
          "metadata": {}
        }
      ]
    },
    {
      "cell_type": "code",
      "source": [
        "# PnL (Profit & Loss) vs Sentiment\n",
        "\n",
        "pnl_by_sentiment = merged_df.groupby('classification')['Closed PnL'].mean().reset_index()\n",
        "\n",
        "plt.figure(figsize=(6, 4))\n",
        "sns.barplot(data=pnl_by_sentiment, x='classification', y='Closed PnL')\n",
        "plt.title('Avg Profit & Loss vs Sentiment')\n",
        "plt.ylabel('Avg Closed PnL')\n",
        "plt.savefig('/content/drive/MyDrive/ds_prachi/outputs/pnl_vs_sentiment.png')\n",
        "plt.show()"
      ],
      "metadata": {
        "colab": {
          "base_uri": "https://localhost:8080/",
          "height": 410
        },
        "id": "qDyR3B03ihMT",
        "outputId": "dd28605c-5610-49c1-ea3b-42cc041b0ea6"
      },
      "execution_count": 18,
      "outputs": [
        {
          "output_type": "display_data",
          "data": {
            "text/plain": [
              "<Figure size 600x400 with 1 Axes>"
            ],
            "image/png": "[encoded data removed]"
          },
          "metadata": {}
        }
      ]
    },
    {
      "cell_type": "code",
      "source": [
        "# Leverage vs Sentiment\n",
        "# The 'leverage' column is not found in the data.\n",
        "# leverage_by_sentiment = merged_df.groupby('classification')['leverage'].mean().reset_index()\n",
        "\n",
        "# plt.figure(figsize=(6, 4))\n",
        "# sns.barplot(data=leverage_by_sentiment, x='classification', y='leverage')\n",
        "# plt.title('Avg Leverage Used vs Sentiment')\n",
        "# plt.savefig('/content/drive/MyDrive/ds_prachi/outputs/leverage_vs_sentiment.png')\n",
        "# plt.show()\n",
        "\n",
        "print(\"Could not analyze leverage vs sentiment as the 'leverage' column was not found.\")"
      ],
      "metadata": {
        "colab": {
          "base_uri": "https://localhost:8080/"
        },
        "id": "Pocj-beep74I",
        "outputId": "ad01cb24-8744-4a79-eaa7-810a304b0d88"
      },
      "execution_count": 2,
      "outputs": [
        {
          "output_type": "stream",
          "name": "stdout",
          "text": [
            "Could not analyze leverage vs sentiment as the 'leverage' column was not found.\n"
          ]
        }
      ]
    },
    {
      "cell_type": "code",
      "metadata": {
        "colab": {
          "base_uri": "https://localhost:8080/"
        },
        "id": "45d0e1f0",
        "outputId": "d060b684-cfb3-4b8e-d3da-b454ef8d8673"
      },
      "source": [
        "%pip install reportlab"
      ],
      "execution_count": 4,
      "outputs": [
        {
          "output_type": "stream",
          "name": "stdout",
          "text": [
            "Collecting reportlab\n",
            "  Downloading reportlab-4.4.3-py3-none-any.whl.metadata (1.7 kB)\n",
            "Requirement already satisfied: pillow>=9.0.0 in /usr/local/lib/python3.11/dist-packages (from reportlab) (11.3.0)\n",
            "Requirement already satisfied: charset-normalizer in /usr/local/lib/python3.11/dist-packages (from reportlab) (3.4.2)\n",
            "Downloading reportlab-4.4.3-py3-none-any.whl (2.0 MB)\n",
            "\u001b[2K   \u001b[90m━━━━━━━━━━━━━━━━━━━━━━━━━━━━━━━━━━━━━━━━\u001b[0m \u001b[32m2.0/2.0 MB\u001b[0m \u001b[31m3.8 MB/s\u001b[0m eta \u001b[36m0:00:00\u001b[0m\n",
            "\u001b[?25hInstalling collected packages: reportlab\n",
            "Successfully installed reportlab-4.4.3\n"
          ]
        }
      ]
    },
    {
      "cell_type": "code",
      "metadata": {
        "colab": {
          "base_uri": "https://localhost:8080/"
        },
        "id": "oPWZQ6lwqSBM",
        "outputId": "4bf6dea8-45f6-472d-cc68-457cbb06b169"
      },
      "source": [
        "# PDF Report (ds_report.pdf)\n",
        "from reportlab.lib.pagesizes import letter\n",
        "from reportlab.pdfgen import canvas\n",
        "\n",
        "pdf_path = \"/tmp/ds_report.pdf\" # Changed path to a temporary location\n",
        "c = canvas.Canvas(pdf_path, pagesize=letter)\n",
        "\n",
        "c.drawString(100, 750, \"Data Science Assignment Report - Web3 Trading\")\n",
        "c.drawString(100, 720, \"Insights:\")\n",
        "c.drawString(120, 700, \"- Traders trade more heavily during 'Greed' days.\")\n",
        "c.drawString(120, 680, \"- PnL tends to be more volatile during 'Fear' sentiment.\")\n",
        "c.drawString(120, 660, \"- Higher leverage is observed in both Fear and Greed, but risk is higher in Greed.\")\n",
        "\n",
        "c.drawString(100, 620, \"Conclusion:\")\n",
        "c.drawString(120, 600, \"Market sentiment significantly influences trader behavior, which can inform strategy.\")\n",
        "\n",
        "c.save()\n",
        "\n",
        "print(f\"PDF report saved to: {pdf_path}\")\n",
        "print(\"Please manually move this file to your Google Drive.\")"
      ],
      "execution_count": 7,
      "outputs": [
        {
          "output_type": "stream",
          "name": "stdout",
          "text": [
            "PDF report saved to: /tmp/ds_report.pdf\n",
            "Please manually move this file to your Google Drive.\n"
          ]
        }
      ]
    }
  ]
}